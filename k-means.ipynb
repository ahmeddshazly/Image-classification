{
 "cells": [
  {
   "cell_type": "markdown",
   "metadata": {},
   "source": [
    "<h1><center>CSEN1022:Assignment 3</center></h1>\n",
    "<h3><center>Winter 2021</center></h3>\n",
    "<hr style=\"border:2px solid black\"> </hr>"
   ]
  },
  {
   "cell_type": "markdown",
   "metadata": {},
   "source": [
    "## <u> Please don't forget to fill in this data </u>\n",
    "**Member 1**\n",
    "\n",
    "Name:\n",
    "\n",
    "GUC-ID:\n",
    "\n",
    "Elective Tutorial No.:\n",
    "\n",
    "**Member 2**\n",
    "\n",
    "Name:\n",
    "\n",
    "GUC-ID:\n",
    "\n",
    "Elective Tutorial No.:\n",
    "\n",
    "<hr style=\"border:2px solid black\"> </hr>"
   ]
  },
  {
   "cell_type": "markdown",
   "metadata": {},
   "source": [
    "## Imports (Don't Edit)"
   ]
  },
  {
   "cell_type": "code",
   "execution_count": 23,
   "metadata": {},
   "outputs": [],
   "source": [
    "# ONLY USE THESE IMPORTS.\n",
    "# PLEASE DON'T EDIT THIS CELL.\n",
    "import numpy as np\n",
    "import matplotlib.pyplot as plt\n",
    "import random\n",
    "%matplotlib inline"
   ]
  },
  {
   "cell_type": "markdown",
   "metadata": {},
   "source": [
    "## Read Data"
   ]
  },
  {
   "cell_type": "code",
   "execution_count": 24,
   "metadata": {},
   "outputs": [],
   "source": [
    "def read_data():\n",
    "    x_train_bird= np.array([plt.imread('Data/train/bird/' + str(i) + '.jpg').reshape(-1) for i in range(0, 5000)])\n",
    "    x_train_airplane = np.array([plt.imread('Data/train/airplane/' + str(i) + '.jpg').reshape(-1) for i in range(0, 5000)])\n",
    "    x_train_truck = np.array([plt.imread('Data/train/truck/' + str(i) + '.jpg').reshape(-1) for i in range(0, 5000)])\n",
    "    x_test_bird = np.array([plt.imread('Data/test/bird/' + str(i) + '.jpg').reshape(-1) for i in range(0, 1000)])\n",
    "    x_test_airplane = np.array([plt.imread('Data/Test/airplane/' + str(i) + '.jpg').reshape(-1) for i in range(0, 1000)])\n",
    "    x_test_truck = np.array([plt.imread('Data/test/truck/' + str(i) + '.jpg').reshape(-1) for i in range(0, 1000)])\n",
    "    return  x_train_bird,x_train_airplane,x_train_truck ,x_test_bird,x_test_airplane,x_test_truck"
   ]
  },
  {
   "cell_type": "code",
   "execution_count": 25,
   "metadata": {},
   "outputs": [],
   "source": [
    "x_train_bird,x_train_airplane,x_train_truck ,x_test_bird,x_test_airplane,x_test_truck = read_data()\n",
    "\n",
    "def reshape(x_train_bird, x_train_airplane, x_train_truck):\n",
    "    x_train = x_train_bird\n",
    "    x_train = np.concatenate((x_train, x_train_airplane))\n",
    "    x_train = np.concatenate((x_train, x_train_truck))\n",
    "    return (x_train)\n",
    "\n",
    "x_train = reshape(x_train_bird, x_train_airplane, x_train_truck)\n",
    "x_test = reshape(x_test_bird, x_test_airplane, x_test_truck)"
   ]
  },
  {
   "cell_type": "markdown",
   "metadata": {},
   "source": [
    "<hr style=\"border:2px solid black\"> </hr>\n",
    "\n",
    "# Perform K means clustering for all 3 classes (Training Data).\n",
    "### Return (memberships, centroids, dbi) --> (vector, matrix, scalar value)."
   ]
  },
  {
   "cell_type": "code",
   "execution_count": 26,
   "metadata": {},
   "outputs": [],
   "source": [
    "def k_means(x_train):\n",
    "    m = []\n",
    "    m.append(random.randint(0,5000))\n",
    "    m.append(random.randint(5000,10000))\n",
    "    m.append(random.randint(10000,15000))\n",
    "    arr = []\n",
    "    x_train=np.int64(x_train)\n",
    "    c1 = x_train[m[0]].reshape(1,3072)\n",
    "    c2 = x_train[m[1]].reshape(1,3072)\n",
    "    c3 = x_train[m[2]].reshape(1,3072)\n",
    "    temp=np.concatenate((c1,c2))\n",
    "    cs=np.concatenate((temp,c3))\n",
    "    cs=np.int64(cs)\n",
    "    x = True\n",
    "    while(x):   \n",
    "        cluster1 = []\n",
    "        cluster2 = []\n",
    "        cluster3 = []\n",
    "        for i in range (0,len(x_train)):\n",
    "            center1 = np.linalg.norm(x_train[i]-cs[0])\n",
    "            center2 = np.linalg.norm(x_train[i]-cs[1])\n",
    "            center3 = np.linalg.norm(x_train[i]-cs[2])\n",
    "            minimum =min(center1,center2,center3)\n",
    "            if(minimum==center1):\n",
    "                cluster1.append(x_train[i])\n",
    "                arr.append(0)\n",
    "            if(minimum==center2):\n",
    "                cluster2.append(x_train[i])\n",
    "                arr.append(1)  \n",
    "            if(minimum==center3):\n",
    "                cluster3.append(x_train[i])\n",
    "                arr.append(2)\n",
    "        centroid0 = np.mean(cluster1,axis=0).reshape(1,3072)\n",
    "        centroid1 =np.mean(cluster2,axis=0).reshape(1,3072)\n",
    "        centroid2 =np.mean(cluster3,axis=0).reshape(1,3072)\n",
    "        tempp=np.concatenate((centroid0,centroid1))\n",
    "        centroids=np.concatenate((tempp,centroid2))\n",
    "        centroids=np.int64(centroids)\n",
    "        comparison = cs == centroids\n",
    "        if(comparison.all()):\n",
    "            x  = False\n",
    "        else:\n",
    "            cs= centroids\n",
    "    si1 = []\n",
    "    for i in range (0,len(cluster1)):\n",
    "        si1.append(np.linalg.norm(cluster1[i]-cs[0]))\n",
    "    si11 = np.mean(si1)    \n",
    "    si2 = []\n",
    "    for i in range (0,len(cluster2)):\n",
    "        si2.append(np.linalg.norm(cluster2[i]-cs[1]))\n",
    "    si22 = np.mean(si2)   \n",
    "    si3 = []\n",
    "    for i in range (0,len(cluster3)):\n",
    "        si3.append(np.linalg.norm(cluster3[i]-cs[2]))\n",
    "    si33 = np.mean(si3) \n",
    "    \n",
    "    m01 = cs[1]-cs[0]\n",
    "    m02 = cs[2]-cs[1]\n",
    "    m12 = cs[2]-cs[1]\n",
    "    r01 = (si11+si22)/m01\n",
    "    r02 = (si11+si33)/m02\n",
    "    r12 = (si22+si33)/m12\n",
    "    return arr,[c1,c2,c3],[r01,r02,r12]"
   ]
  },
  {
   "cell_type": "markdown",
   "metadata": {},
   "source": [
    "<hr style=\"border:2px solid black\"> </hr>\n",
    "\n",
    "# Repeat the previous process 10 times. \n",
    "### Pick the membership vector and the centroids matrix corresponding to the best dbi.\n",
    "##### Make sure you return max_counts and confusion_matrix.\n",
    "(keep history in whatever datastructure you like)."
   ]
  },
  {
   "cell_type": "code",
   "execution_count": 41,
   "metadata": {},
   "outputs": [
    {
     "name": "stderr",
     "output_type": "stream",
     "text": [
      "/var/folders/xr/rrqgr3ms17jbf_8qqz8rn_140000gn/T/ipykernel_96874/393127734.py:60: RuntimeWarning: divide by zero encountered in true_divide\n",
      "  r01 = (si11+si22)/m01\n",
      "/var/folders/xr/rrqgr3ms17jbf_8qqz8rn_140000gn/T/ipykernel_96874/393127734.py:61: RuntimeWarning: divide by zero encountered in true_divide\n",
      "  r02 = (si11+si33)/m02\n",
      "/var/folders/xr/rrqgr3ms17jbf_8qqz8rn_140000gn/T/ipykernel_96874/393127734.py:62: RuntimeWarning: divide by zero encountered in true_divide\n",
      "  r12 = (si22+si33)/m12\n"
     ]
    },
    {
     "name": "stdout",
     "output_type": "stream",
     "text": [
      "[array([69.98390458, 65.31831094, 53.4422544 , ..., 81.64788867,\n",
      "       75.36728185, 63.21126865]), array([           inf, -1939.41760399, -1163.65056239, ...,\n",
      "         -96.9708802 ,   -86.83959421,   -73.64876977]), array([           inf, -2001.95249717, -1201.1714983 , ...,\n",
      "        -100.09762486,   -89.63966405,   -76.02351255])]\n",
      "[array([69.98390458, 65.31831094, 53.4422544 , ..., 81.64788867,\n",
      "       75.36728185, 63.21126865]), array([           inf, -1939.41760399, -1163.65056239, ...,\n",
      "         -96.9708802 ,   -86.83959421,   -73.64876977]), array([           inf, -2001.95249717, -1201.1714983 , ...,\n",
      "        -100.09762486,   -89.63966405,   -76.02351255])]\n",
      "[array([ 70.10415005,  66.88097074,  55.94850437, ..., 484.88703785,\n",
      "       528.96767765, 387.90963028]), array([5878.71383819, 1959.5712794 ,  979.7856397 , ...,   96.372358  ,\n",
      "         87.74199758,   74.41409922]), array([6005.15591551, 2001.7186385 , 1000.85931925, ...,   98.44517894,\n",
      "         89.62919277,   76.01463184])]\n",
      "[array([69.98390458, 65.31831094, 53.4422544 , ..., 81.64788867,\n",
      "       75.36728185, 63.21126865]), array([           inf, -1939.41760399, -1163.65056239, ...,\n",
      "         -96.9708802 ,   -86.83959421,   -73.64876977]), array([           inf, -2001.95249717, -1201.1714983 , ...,\n",
      "        -100.09762486,   -89.63966405,   -76.02351255])]\n",
      "[array([ 70.10415005,  66.88097074,  55.94850437, ..., 484.88703785,\n",
      "       528.96767765, 387.90963028]), array([5878.71383819, 1959.5712794 ,  979.7856397 , ...,   96.372358  ,\n",
      "         87.74199758,   74.41409922]), array([6005.15591551, 2001.7186385 , 1000.85931925, ...,   98.44517894,\n",
      "         89.62919277,   76.01463184])]\n",
      "[array([69.98390458, 65.31831094, 53.4422544 , ..., 81.64788867,\n",
      "       75.36728185, 63.21126865]), array([           inf, -1939.41760399, -1163.65056239, ...,\n",
      "         -96.9708802 ,   -86.83959421,   -73.64876977]), array([           inf, -2001.95249717, -1201.1714983 , ...,\n",
      "        -100.09762486,   -89.63966405,   -76.02351255])]\n",
      "[array([6005.49186354, 2001.83062118, 1000.91531059, ...,   98.45068629,\n",
      "         89.63420692,   76.01888435]), array([-69.26836951, -64.65047821, -52.89584581, ..., -79.70606902,\n",
      "       -74.59670562, -62.56497891]), array([-69.98029808, -65.31494487, -53.43950035, ..., -80.5252745 ,\n",
      "       -75.36339793, -63.20801117])]\n",
      "[array([69.98263823, 65.31712901, 53.44128737, ..., 80.52796727,\n",
      "       75.36591809, 62.53767671]), array([-5818.64244532, -1939.54748177,  -969.77374089, ...,\n",
      "         -95.38758107,   -86.84540963,   -72.73303057]), array([-6005.32613393, -2001.77537798, -1000.88768899, ...,\n",
      "         -98.44796941,   -89.63173334,   -75.06657667])]\n",
      "[array([69.98468855, 65.31904265, 53.44285307, ..., 80.53032655,\n",
      "       75.36812613, 62.53950892]), array([-5818.64445417, -1939.54815139,  -969.7740757 , ...,\n",
      "         -95.387614  ,   -86.84543961,   -73.65372727]), array([-6005.15591551, -2001.7186385 , -1000.85931925, ...,\n",
      "         -98.44517894,   -89.62919277,   -76.01463184])]\n",
      "[array([69.98092484, 65.31552985, 53.43997897, ..., 81.64441231,\n",
      "       75.3640729 , 63.20857727]), array([           inf, -1939.38026102, -1163.62815661, ...,\n",
      "         -96.96901305,   -86.83792214,   -73.64735168]), array([           inf, -2002.06704838, -1201.24022903, ...,\n",
      "        -100.10335242,   -89.64479321,   -76.0278626 ])]\n"
     ]
    }
   ],
   "source": [
    "def repeat():\n",
    "    all_memberships = []\n",
    "    all_centroids = []\n",
    "    all_dbi = []\n",
    "    for i in range(0,10):\n",
    "        memberships, centroids, dbi=k_means(x_train)\n",
    "        print(dbi)\n",
    "        all_memberships.append(memberships)\n",
    "        all_centroids.append(centroids)\n",
    "        all_dbi.append(dbi)\n",
    "    return  all_memberships,all_centroids,all_dbi\n",
    "all_memberships,all_centroids,all_dbi =repeat()    \n",
    "\n",
    "\n",
    "#best_membership_matrix = \n",
    "#best_centroids = \n",
    "#best_dbi = \n",
    "\n",
    "###\n",
    "#CODE HERE#\n",
    "###\n",
    "\n",
    "#max_counts = \n",
    "#confusion_matrix="
   ]
  },
  {
   "cell_type": "code",
   "execution_count": 40,
   "metadata": {},
   "outputs": [
    {
     "name": "stdout",
     "output_type": "stream",
     "text": [
      "[[array([-69.98390458, -65.31831094, -53.4422544 , ..., -81.64788867,\n",
      "       -75.36728185, -63.21126865]), array([ 71.49830347,  69.03284473,  57.19864278, ..., 500.48812429,\n",
      "       545.98704468, 428.98982082]), array([ 69.26491443,  66.8764691 ,  55.41193154, ..., 484.854401  ,\n",
      "       528.93207381, 415.58948657])], [array([6005.15591551, 2001.7186385 , 1000.85931925, ...,   98.44517894,\n",
      "         89.62919277,   76.01463184]), array([-69.26957684, -64.65160505, -52.89676777, ..., -79.70745828,\n",
      "       -74.59800582, -61.90047292]), array([-69.98468855, -65.31904265, -53.44285307, ..., -80.53032655,\n",
      "       -75.36812613, -62.53950892])], [array([-69.98323359, -65.31768468, -53.44174201, ..., -81.64710585,\n",
      "       -75.36655925, -63.21066259]), array([ 71.50014544,  69.03462318,  57.20011635, ..., 500.50101808,\n",
      "       546.00111064, 429.00087264]), array([ 69.26364036,  66.87523897,  55.41091229, ..., 484.8454825 ,\n",
      "       528.92234455, 415.58184214])], [array([          inf, 2001.95249717, 1201.1714983 , ...,  100.09762486,\n",
      "         89.63966405,   76.02351255]), array([-69.26491443, -64.64725347, -52.89320738, ..., -80.80906683,\n",
      "       -74.59298477, -62.56185819]), array([-69.98390458, -65.31831094, -53.4422544 , ..., -81.64788867,\n",
      "       -75.36728185, -63.21126865])], [array([ -70.10289448,  -66.8797729 ,  -55.94750233, ..., -484.87835351,\n",
      "       -528.95820383, -415.6100173 ]), array([71.4911692 , 66.72509125, 54.59325648, ..., 82.26381113,\n",
      "       76.99048991, 64.57266895]), array([69.98304634, 65.31750992, 53.44159903, ..., 80.52843689,\n",
      "       75.3663576 , 63.21049347])], [array([69.98390458, 65.31831094, 53.4422544 , ..., 81.64788867,\n",
      "       75.36728185, 63.21126865]), array([           inf, -1939.41760399, -1163.65056239, ...,\n",
      "         -96.9708802 ,   -86.83959421,   -73.64876977]), array([           inf, -2001.95249717, -1201.1714983 , ...,\n",
      "        -100.09762486,   -89.63966405,   -76.02351255])], [array([69.98390458, 65.31831094, 53.4422544 , ..., 81.64788867,\n",
      "       75.36728185, 63.21126865]), array([           inf, -1939.41760399, -1163.65056239, ...,\n",
      "         -96.9708802 ,   -86.83959421,   -73.64876977]), array([           inf, -2001.95249717, -1201.1714983 , ...,\n",
      "        -100.09762486,   -89.63966405,   -76.02351255])], [array([ -70.10415005,  -66.88097074,  -55.94850437, ..., -484.88703785,\n",
      "       -528.96767765, -387.90963028]), array([71.48995138, 66.72395462, 54.5923265 , ..., 82.2624098 ,\n",
      "       76.9891784 , 63.8846374 ]), array([69.98468855, 65.31904265, 53.44285307, ..., 80.53032655,\n",
      "       75.36812613, 62.53950892])], [array([69.98468855, 65.31904265, 53.44285307, ..., 80.53032655,\n",
      "       75.36812613, 62.53950892]), array([-5818.64445417, -1939.54815139,  -969.7740757 , ...,\n",
      "         -95.387614  ,   -86.84543961,   -73.65372727]), array([-6005.15591551, -2001.7186385 , -1000.85931925, ...,\n",
      "         -98.44517894,   -89.62919277,   -76.01463184])], [array([ 69.26375445,  66.87534912,  55.41100356, ..., 484.84628113,\n",
      "       528.92321578, 415.58252669]), array([          inf, 1959.5437695 , 1175.7262617 , ...,   97.97718847,\n",
      "         87.7407658 ,   74.41305454]), array([          inf, 2001.9940378 , 1201.19642268, ...,  100.09970189,\n",
      "         89.64152408,   76.02509004])]]\n"
     ]
    }
   ],
   "source": [
    "\n",
    "# index = dbi.index(min(dbi))\n",
    "# best_membership_matrix = all_memberships[index]\n",
    "# best_centroids = all_centroids[index]\n",
    "# best_dbi = min(dbi)\n",
    "# print(len(best_membership_matrix))\n"
   ]
  },
  {
   "cell_type": "code",
   "execution_count": null,
   "metadata": {},
   "outputs": [],
   "source": []
  },
  {
   "cell_type": "markdown",
   "metadata": {},
   "source": [
    "<hr style=\"border:2px solid black\"> </hr>\n",
    "\n",
    "## Don't Edit the Following Cells, Just Run & Save them."
   ]
  },
  {
   "cell_type": "code",
   "execution_count": null,
   "metadata": {},
   "outputs": [],
   "source": [
    "plt.figure(figsize=(10,6))\n",
    "plt.plot(['Airplane','Bird','Truck'],max_counts,'-o')\n",
    "plt.title('Best Counts')"
   ]
  },
  {
   "cell_type": "code",
   "execution_count": null,
   "metadata": {},
   "outputs": [],
   "source": [
    "plt.rc('figure', figsize=[5,5])\n",
    "plt.matshow(confusion_matrix,cmap=\"Blues\")\n",
    "for i in range(0,confusion_matrix.shape[0]):\n",
    "    for j in range(0,confusion_matrix.shape[1]):\n",
    "        plt.annotate(confusion_matrix[i,j],(j,i))"
   ]
  },
  {
   "cell_type": "code",
   "execution_count": null,
   "metadata": {},
   "outputs": [],
   "source": []
  },
  {
   "cell_type": "code",
   "execution_count": null,
   "metadata": {},
   "outputs": [],
   "source": []
  }
 ],
 "metadata": {
  "interpreter": {
   "hash": "31f2aee4e71d21fbe5cf8b01ff0e069b9275f58929596ceb00d14d90e3e16cd6"
  },
  "kernelspec": {
   "display_name": "Python 3 (ipykernel)",
   "language": "python",
   "name": "python3"
  },
  "language_info": {
   "codemirror_mode": {
    "name": "ipython",
    "version": 3
   },
   "file_extension": ".py",
   "mimetype": "text/x-python",
   "name": "python",
   "nbconvert_exporter": "python",
   "pygments_lexer": "ipython3",
   "version": "3.9.7"
  }
 },
 "nbformat": 4,
 "nbformat_minor": 4
}
