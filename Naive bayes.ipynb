{
 "cells": [
  {
   "cell_type": "code",
   "execution_count": null,
   "outputs": [],
   "source": [
    "# ONLY USE THESE IMPORTS.\n",
    "# PLEASE DON'T EDIT THIS CELL.\n",
    "import numpy as np\n",
    "import matplotlib.pyplot as plt\n",
    "import cv2\n",
    "%matplotlib inline\n",
    "confusion_matrices_nb = []\n",
    "confusion_matrices_gm = []"
   ],
   "metadata": {
    "collapsed": false,
    "pycharm": {
     "name": "#%%\n"
    }
   }
  },
  {
   "cell_type": "markdown",
   "source": [
    "## Read Data"
   ],
   "metadata": {
    "collapsed": false
   }
  },
  {
   "cell_type": "code",
   "execution_count": 171,
   "metadata": {},
   "outputs": [],
   "source": [
    "def read_data():\n",
    "    x_train_frog = np.array([plt.imread('Data/train/frog/' + str(i) + '.jpg').reshape(-1) for i in range(0, 5000)])\n",
    "    x_train_airplane = np.array([plt.imread('Data/train/airplane/' + str(i) + '.jpg').reshape(-1) for i in range(0, 5000)])\n",
    "    x_train_automobile = np.array([plt.imread('Data/train/automobile/' + str(i) + '.jpg').reshape(-1) for i in range(0, 5000)])\n",
    "    x_test_frog = np.array([plt.imread('Data/test/frog/' + str(i) + '.jpg').reshape(-1) for i in range(0, 1000)])\n",
    "    x_test_airplane = np.array([plt.imread('Data/Test/airplane/' + str(i) + '.jpg').reshape(-1) for i in range(0, 1000)])\n",
    "    x_test_automobile = np.array([plt.imread('Data/test/automobile/' + str(i) + '.jpg').reshape(-1) for i in range(0, 1000)])\n",
    "    return  x_train_frog,x_train_airplane,x_train_automobile ,x_test_frog,x_test_airplane,x_test_automobile"
   ]
  },
  {
   "cell_type": "code",
   "execution_count": 172,
   "metadata": {},
   "outputs": [],
   "source": [
    "def normalize(array):\n",
    "    array = np.divide(array, 255)\n",
    "    return array"
   ]
  },
  {
   "cell_type": "code",
   "execution_count": 173,
   "metadata": {},
   "outputs": [
    {
     "name": "stdout",
     "output_type": "stream",
     "text": [
      "(5000, 3072)\n",
      "[ 25  17  15 ... 168 204 190]\n"
     ]
    }
   ],
   "source": [
    "x_train_frog,x_train_airplane,x_train_automobile ,x_test_frog,x_test_airplane,x_test_automobile = read_data()\n",
    "print(np.shape(x_train_frog))\n",
    "print(x_train_frog[1])\n",
    "x_train_frog = normalize(x_train_frog)\n",
    "x_train_automobile = normalize(x_train_automobile)\n",
    "x_train_airplane = normalize(x_train_airplane)\n",
    "x_test_frog = normalize(x_test_frog)\n",
    "x_test_automobile = normalize(x_test_automobile)\n",
    "x_test_airplane = normalize(x_test_airplane)"
   ]
  },
  {
   "cell_type": "code",
   "execution_count": 174,
   "metadata": {},
   "outputs": [],
   "source": [
    " \n",
    "def reshape(x_train_airplane, x_train_frog, x_train_automobile ):\n",
    "    x_train = x_train_airplane\n",
    "    x_train = np.concatenate((x_train, x_train_frog))\n",
    "    x_train = np.concatenate((x_train, x_train_automobile))\n",
    "    return (x_train)\n",
    "\n",
    "x_train = reshape(x_train_airplane, x_train_frog, x_train_automobile)\n",
    "x_test = reshape(x_test_airplane, x_test_frog, x_test_automobile)"
   ]
  },
  {
   "cell_type": "markdown",
   "metadata": {},
   "source": [
    "<hr style=\"border:2px solid black\"> </hr>\n",
    "\n",
    "## Construct Naive Bayes classifier for each of the 3 classes.\n",
    "#### Test each classifier on all images in X_Test. \n",
    "#### Construct Confusion Matrix."
   ]
  },
  {
   "cell_type": "code",
   "execution_count": 175,
   "metadata": {},
   "outputs": [],
   "source": [
    "def classifier(array, arraytest):\n",
    "\n",
    "    gaussvalues=np.zeros(3000)\n",
    "    Mu=np.mean(array, axis=0).reshape(1,-1)\n",
    "    variance=np.var(array, axis=0).reshape(1,-1)\n",
    "\n",
    "    for i in range (0, 3000):\n",
    "        x=arraytest[i].reshape(1, -1)\n",
    "       # print (np.shape(x))\n",
    "\n",
    "        gauss= np.exp(-((x-Mu)**2)/(2*variance))/np.sqrt(2*np.pi*variance)\n",
    "        gaussvalue=np.prod(gauss)\n",
    "\n",
    "        gaussvalues[i]=gaussvalue\n",
    "        #print(gaussvalue)\n",
    "\n",
    "\n",
    "    gaussvalues = gaussvalues[:, np.newaxis]\n",
    "    print(np.shape(gaussvalues))\n",
    "\n",
    "    #print(np.shape(result))\n",
    "    return gaussvalues"
   ]
  },
  {
   "cell_type": "code",
   "execution_count": 176,
   "metadata": {},
   "outputs": [
    {
     "name": "stdout",
     "output_type": "stream",
     "text": [
      "(3000, 1)\n",
      "(3000, 1)\n",
      "(3000, 1)\n"
     ]
    }
   ],
   "source": [
    "Airmatrix=classifier(x_train_airplane , x_test)\n",
    "frogmatrix=classifier(x_train_frog, x_test)\n",
    "automatrix=classifier(x_train_automobile,  x_test)"
   ]
  },
  {
   "cell_type": "code",
   "execution_count": 177,
   "metadata": {},
   "outputs": [],
   "source": [
    "def predictmax(m1,m2,m3):\n",
    "    matrix2 = np.concatenate((m1, m2), axis=1)\n",
    "    TestMatrix = np.concatenate((matrix2, m3), axis=1)\n",
    "    confusionarray= np.zeros(3000)\n",
    "    airairc=0\n",
    "    airautoc=0\n",
    "    airfrogc=0\n",
    "    for i in range (0,1000):\n",
    "        confusionarray[i]= max(TestMatrix[i])\n",
    "        if (confusionarray[i] == m1[i]):\n",
    "            airairc += 1\n",
    "        elif (confusionarray[i] == m2[i]):\n",
    "            airfrogc += 1\n",
    "        else:\n",
    "            airautoc += 1\n",
    "    print([airairc, airfrogc, airautoc])\n",
    "    frogairc = 0\n",
    "    frogautoc = 0\n",
    "    frogfrogc = 0\n",
    "    for i in range (1000,2000):\n",
    "        confusionarray[i]= max(TestMatrix[i])\n",
    "        if (confusionarray[i] == m1[i]):\n",
    "            frogairc += 1\n",
    "        elif (confusionarray[i] == m2[i]):\n",
    "            frogfrogc += 1\n",
    "        else:\n",
    "            frogautoc += 1\n",
    "    print([frogairc, frogfrogc, frogautoc])\n",
    "    autoairc=0\n",
    "    autoautoc=0\n",
    "    autofrogc=0\n",
    "    for i in range(2000, 3000):\n",
    "        confusionarray[i] = max(TestMatrix[i])\n",
    "        if (confusionarray[i] == m1[i]):\n",
    "            autoairc += 1\n",
    "        elif (confusionarray[i] == m2[i]):\n",
    "            autofrogc += 1\n",
    "        else:\n",
    "            autoautoc += 1\n",
    "    print([autoairc, autofrogc, autoautoc])\n",
    "    cm = [[airairc, airfrogc, airautoc], [frogairc, frogfrogc, frogautoc],\n",
    "          [autoairc, autofrogc, autoautoc]]\n",
    "    return cm\n"
   ]
  },
  {
   "cell_type": "code",
   "execution_count": 178,
   "metadata": {},
   "outputs": [
    {
     "name": "stdout",
     "output_type": "stream",
     "text": [
      "[767, 132, 101]\n",
      "[240, 716, 44]\n",
      "[328, 291, 381]\n"
     ]
    },
    {
     "data": {
      "image/png": "[encoded data removed]",
      "text/plain": [
       "<Figure size 288x288 with 1 Axes>"
      ]
     },
     "metadata": {
      "needs_background": "light"
     },
     "output_type": "display_data"
    }
   ],
   "source": [
    "final= predictmax(Airmatrix, frogmatrix, automatrix)\n",
    "\n",
    "\n",
    "\n",
    "\n",
    "confusion_matrix = np.array(final)\n",
    "confusion_matrices_nb += [confusion_matrix]\n",
    "\n",
    "\n",
    "\n",
    "def confusion(matrixx):\n",
    "    accuracy = np.diag(matrixx).sum() / 3000\n",
    "    plt.rc('figure', figsize=[4, 4])\n",
    "    plt.matshow(matrixx, cmap=\"Blues\")\n",
    "    plt.title('FLD+RGB = {0:0.3f}'.format(accuracy))\n",
    "    for i in range(0, matrixx.shape[0]):\n",
    "        for j in range(0, matrixx.shape[1]):\n",
    "            plt.annotate(matrixx[i, j], (j, i))\n",
    "    plt.show()\n",
    "\n",
    "confusion(confusion_matrix)"
   ]
  },
  {
   "cell_type": "code",
   "execution_count": 179,
   "metadata": {},
   "outputs": [
    {
     "name": "stdout",
     "output_type": "stream",
     "text": [
      "(0,)\n",
      "(5000, 768)\n",
      "(3000, 1)\n",
      "(3000, 1)\n",
      "(3000, 1)\n",
      "[725, 146, 129]\n",
      "[170, 777, 53]\n",
      "[255, 313, 432]\n"
     ]
    },
    {
     "data": {
      "image/png": "[encoded data removed]",
      "text/plain": [
       "<Figure size 288x288 with 1 Axes>"
      ]
     },
     "metadata": {
      "needs_background": "light"
     },
     "output_type": "display_data"
    }
   ],
   "source": [
    "\n",
    "#16_bit\n",
    "x_train_frog16=[]\n",
    "print(np.shape(x_train_frog16))\n",
    "x_train_airplane16=[]\n",
    "x_train_automobile16=[]\n",
    "x_test_frog16=[]\n",
    "x_test_airplane16=[]\n",
    "x_test_automobile16=[]\n",
    "\n",
    "\n",
    "for i in range(0,5000):\n",
    "    img = plt.imread('Data/train/frog/' + str(i) + '.jpg')\n",
    "    img=cv2.resize(img, (16, 16), interpolation = cv2.INTER_AREA).reshape(-1)\n",
    "    x_train_frog16.append(img)\n",
    "\n",
    "\n",
    "for i in range(0, 5000):\n",
    "    img = plt.imread('Data/train/airplane/' + str(i) + '.jpg')\n",
    "    img=cv2.resize(img, (16, 16), interpolation=cv2.INTER_AREA).reshape(-1)\n",
    "    x_train_airplane16.append(img)\n",
    "for i in range(0, 5000):\n",
    "    img = plt.imread('Data/train/automobile/' + str(i) + '.jpg')\n",
    "    img = cv2.resize(img, (16, 16), interpolation=cv2.INTER_AREA).reshape(-1)\n",
    "    x_train_automobile16.append(img)\n",
    "for i in range(0, 1000):\n",
    "    img = plt.imread('Data/test/frog/' + str(i) + '.jpg')\n",
    "    img = cv2.resize(img, (16, 16), interpolation=cv2.INTER_AREA).reshape(-1)\n",
    "    x_test_frog16.append(img)\n",
    "for i in range(0, 1000):\n",
    "    img = plt.imread('Data/Test/airplane/' + str(i) + '.jpg')\n",
    "    img = cv2.resize(img, (16, 16), interpolation=cv2.INTER_AREA).reshape(-1)\n",
    "    x_test_airplane16.append(img)\n",
    "for i in range(0, 1000):\n",
    "    img = plt.imread('Data/test/automobile/' + str(i) + '.jpg')\n",
    "    img = cv2.resize(img, (16, 16), interpolation=cv2.INTER_AREA).reshape(-1)\n",
    "    x_test_automobile16.append(img)\n",
    "\n",
    "print(np.shape(x_train_frog16))\n",
    "x_train_frog16 = normalize(x_train_frog16)\n",
    "x_train_automobile16 = normalize(x_train_automobile16)\n",
    "x_train_airplane16 = normalize(x_train_airplane16)\n",
    "x_test_frog16 = normalize(x_test_frog16)\n",
    "x_test_automobile16 = normalize(x_test_automobile16)\n",
    "x_test_airplane16 = normalize(x_test_airplane16)\n",
    "x_train16 = reshape(x_train_airplane16, x_train_frog16, x_train_automobile16)\n",
    "x_test16 = reshape(x_test_airplane16, x_test_frog16, x_test_automobile16)\n",
    "Airmatrix16=classifier(x_train_airplane16 , x_test16)\n",
    "frogmatrix16=classifier(x_train_frog16, x_test16)\n",
    "automatrix16=classifier(x_train_automobile16,  x_test16)\n",
    "final16= predictmax(Airmatrix16, frogmatrix16, automatrix16)\n",
    "confusion_matrix16 = np.array(final16)\n",
    "confusion_matrices_nb += [confusion_matrix16]\n",
    "confusion(confusion_matrix16)\n",
    "\n",
    "\n"
   ]
  },
  {
   "cell_type": "code",
   "execution_count": 180,
   "metadata": {},
   "outputs": [
    {
     "name": "stdout",
     "output_type": "stream",
     "text": [
      "(3000, 1)\n",
      "(3000, 1)\n",
      "(3000, 1)\n",
      "[712, 141, 147]\n",
      "[166, 779, 55]\n",
      "[253, 321, 426]\n"
     ]
    },
    {
     "data": {
      "image/png": "[encoded data removed]",
      "text/plain": [
       "<Figure size 288x288 with 1 Axes>"
      ]
     },
     "metadata": {
      "needs_background": "light"
     },
     "output_type": "display_data"
    }
   ],
   "source": [
    "#8bit\n",
    "x_train_frog8=[]\n",
    "x_train_airplane8=[]\n",
    "x_train_automobile8=[]\n",
    "x_test_frog8=[]\n",
    "x_test_airplane8=[]\n",
    "x_test_automobile8= []\n",
    "\n",
    "for i in range(0, 5000):\n",
    "    img = plt.imread('Data/train/frog/' + str(i) + '.jpg')\n",
    "    img = cv2.resize(img, (8, 8), interpolation=cv2.INTER_AREA).reshape(-1)\n",
    "    x_train_frog8.append(img)\n",
    "\n",
    "for i in range(0, 5000):\n",
    "    img = plt.imread('Data/train/airplane/' + str(i) + '.jpg')\n",
    "    img = cv2.resize(img, (8, 8), interpolation=cv2.INTER_AREA).reshape(-1)\n",
    "    x_train_airplane8.append(img)\n",
    "for i in range(0, 5000):\n",
    "    img = plt.imread('Data/train/automobile/' + str(i) + '.jpg')\n",
    "    img = cv2.resize(img, (8, 8), interpolation=cv2.INTER_AREA).reshape(-1)\n",
    "    x_train_automobile8.append(img)\n",
    "for i in range(0, 1000):\n",
    "    img = plt.imread('Data/test/frog/' + str(i) + '.jpg')\n",
    "    img = cv2.resize(img, (8, 8), interpolation=cv2.INTER_AREA).reshape(-1)\n",
    "    x_test_frog8.append(img)\n",
    "for i in range(0, 1000):\n",
    "    img = plt.imread('Data/Test/airplane/' + str(i) + '.jpg')\n",
    "    img = cv2.resize(img, (8, 8), interpolation=cv2.INTER_AREA).reshape(-1)\n",
    "    x_test_airplane8.append(img)\n",
    "for i in range(0, 1000):\n",
    "    img = plt.imread('Data/test/automobile/' + str(i) + '.jpg')\n",
    "    img = cv2.resize(img, (8, 8), interpolation=cv2.INTER_AREA).reshape(-1)\n",
    "    x_test_automobile8.append(img)\n",
    "\n",
    "x_train_frog8 = normalize(x_train_frog8)\n",
    "x_train_automobile8 = normalize(x_train_automobile8)\n",
    "x_train_airplane8 = normalize(x_train_airplane8)\n",
    "x_test_frog8 = normalize(x_test_frog8)\n",
    "x_test_automobile8 = normalize(x_test_automobile8)\n",
    "x_test_airplane8 = normalize(x_test_airplane8)\n",
    "x_train8 = reshape(x_train_airplane8, x_train_frog8, x_train_automobile8)\n",
    "x_test8 = reshape(x_test_airplane8, x_test_frog8, x_test_automobile8)\n",
    "Airmatrix8=classifier(x_train_airplane8 , x_test8)\n",
    "frogmatrix8=classifier(x_train_frog8, x_test8)\n",
    "automatrix8=classifier(x_train_automobile8,  x_test8)\n",
    "final8= predictmax(Airmatrix8, frogmatrix8, automatrix8)\n",
    "confusion_matrix8 = np.array(final8)\n",
    "confusion_matrices_nb += [confusion_matrix8]\n",
    "confusion(confusion_matrix8)\n"
   ]
  },
  {
   "cell_type": "code",
   "execution_count": 181,
   "metadata": {},
   "outputs": [
    {
     "name": "stdout",
     "output_type": "stream",
     "text": [
      "(3000, 1)\n",
      "(3000, 1)\n",
      "(3000, 1)\n",
      "[681, 137, 182]\n",
      "[164, 775, 61]\n",
      "[256, 360, 384]\n"
     ]
    },
    {
     "data": {
      "image/png": "[encoded data removed]",
      "text/plain": [
       "<Figure size 288x288 with 1 Axes>"
      ]
     },
     "metadata": {
      "needs_background": "light"
     },
     "output_type": "display_data"
    }
   ],
   "source": [
    "\n",
    "#4bit\n",
    "x_train_frog4=[]\n",
    "x_train_airplane4=[]\n",
    "x_train_automobile4=[]\n",
    "x_test_frog4=[]\n",
    "x_test_airplane4=[]\n",
    "x_test_automobile4= []\n",
    "\n",
    "for i in range(0, 5000):\n",
    "    img = plt.imread('Data/train/frog/' + str(i) + '.jpg')\n",
    "    img = cv2.resize(img, (4, 4), interpolation=cv2.INTER_AREA).reshape(-1)\n",
    "    x_train_frog4.append(img)\n",
    "\n",
    "for i in range(0, 5000):\n",
    "    img = plt.imread('Data/train/airplane/' + str(i) + '.jpg')\n",
    "    img = cv2.resize(img, (4, 4), interpolation=cv2.INTER_AREA).reshape(-1)\n",
    "    x_train_airplane4.append(img)\n",
    "for i in range(0, 5000):\n",
    "    img = plt.imread('Data/train/automobile/' + str(i) + '.jpg')\n",
    "    img = cv2.resize(img, (4, 4), interpolation=cv2.INTER_AREA).reshape(-1)\n",
    "    x_train_automobile4.append(img)\n",
    "for i in range(0, 1000):\n",
    "    img = plt.imread('Data/test/frog/' + str(i) + '.jpg')\n",
    "    img = cv2.resize(img, (4, 4), interpolation=cv2.INTER_AREA).reshape(-1)\n",
    "    x_test_frog4.append(img)\n",
    "for i in range(0, 1000):\n",
    "    img = plt.imread('Data/Test/airplane/' + str(i) + '.jpg')\n",
    "    img = cv2.resize(img, (4, 4), interpolation=cv2.INTER_AREA).reshape(-1)\n",
    "    x_test_airplane4.append(img)\n",
    "for i in range(0, 1000):\n",
    "    img = plt.imread('Data/test/automobile/' + str(i) + '.jpg')\n",
    "    img = cv2.resize(img, (4, 4), interpolation=cv2.INTER_AREA).reshape(-1)\n",
    "    x_test_automobile4.append(img)\n",
    "\n",
    "x_train_frog4 = normalize(x_train_frog4)\n",
    "x_train_automobile4 = normalize(x_train_automobile4)\n",
    "x_train_airplane4 = normalize(x_train_airplane4)\n",
    "x_test_frog4 = normalize(x_test_frog4)\n",
    "x_test_automobile4 = normalize(x_test_automobile4)\n",
    "x_test_airplane4 = normalize(x_test_airplane4)\n",
    "x_train4 = reshape(x_train_airplane4, x_train_frog4, x_train_automobile4)\n",
    "x_test4 = reshape(x_test_airplane4, x_test_frog4, x_test_automobile4)\n",
    "Airmatrix4=classifier(x_train_airplane4 , x_test4)\n",
    "frogmatrix4=classifier(x_train_frog4, x_test4)\n",
    "automatrix4=classifier(x_train_automobile4,  x_test4)\n",
    "final4= predictmax(Airmatrix4, frogmatrix4, automatrix4)\n",
    "confusion_matrix4 = np.array(final4)\n",
    "confusion_matrices_nb += [confusion_matrix4]\n",
    "confusion(confusion_matrix4)"
   ]
  },
  {
   "cell_type": "markdown",
   "metadata": {},
   "source": [
    "<hr style=\"border:2px solid black\"> </hr>\n",
    "\n",
    "## Construct Gaussian Generative Model classifier for each of the 3 classes.\n",
    "#### Test each classifier on all images in X_Test. \n",
    "#### Construct Confusion Matrix."
   ]
  },
  {
   "cell_type": "code",
   "execution_count": 182,
   "metadata": {},
   "outputs": [],
   "source": [
    "x_train_frog21,x_train_airplane21,x_train_automobile21 ,x_test_frog21,x_test_airplane21,x_test_automobile21 = read_data()\n",
    "x_train_frog21 = normalize(x_train_frog21)\n",
    "x_train_automobile21 = normalize(x_train_automobile21)\n",
    "x_train_airplane21 = normalize(x_train_airplane21)\n",
    "x_test_frog21 = normalize(x_test_frog21)\n",
    "x_test_automobile21 = normalize(x_test_automobile21)\n",
    "x_test_airplane21 = normalize(x_test_airplane21)\n",
    "\n",
    "x_train21 = reshape(x_train_airplane21, x_train_frog21, x_train_automobile21)\n",
    "x_test21 = reshape(x_test_airplane21, x_test_frog21, x_test_automobile21)"
   ]
  },
  {
   "cell_type": "code",
   "execution_count": 183,
   "metadata": {},
   "outputs": [],
   "source": [
    "def mean(x_train,v1,v2,v3):\n",
    "    mean = []\n",
    "    for i in range(0, v3):\n",
    "        a = x_train[v1:v2, i]\n",
    "        mean.append(np.mean(a))\n",
    "    return  mean    "
   ]
  },
  {
   "cell_type": "code",
   "execution_count": 184,
   "metadata": {},
   "outputs": [],
   "source": [
    "def covariance(test,train,p_val):\n",
    "    mean_air = mean(train, 0, 5000,p_val)\n",
    "    mean_frog = mean(train, 5000, 10000,p_val)\n",
    "    mean_auto = mean(train, 10000, 15000,p_val)\n",
    "    s1 =  np.matmul(np.transpose((train[0:5000,:]-mean_air)),(train[0:5000,:]-mean_air))\n",
    "    s2 =  np.matmul(np.transpose((train[5000:10000,:]-mean_frog)),(train[5000:10000,:]-mean_frog))\n",
    "    s3 =  np.matmul(np.transpose((train[10000:15000,:]-mean_auto)),(train[10000:15000,:]-mean_auto))\n",
    "    s = (5000/15000)*s1+(5000/15000)*s2+s3*(5000/15000)\n",
    "    s_1 = np.linalg.pinv(s)\n",
    "    \n",
    "    class_air = []\n",
    "    class_frog = []\n",
    "    class_auto = []\n",
    "    for i in range(0,3000):\n",
    "        temp =test[i,:]-mean_air\n",
    "        t = np.matmul(temp,s_1)\n",
    "        tt = np.matmul(t,np.transpose(temp))\n",
    "        class_air.append(np.exp(-0.5*tt))\n",
    "        \n",
    "    for i in range(0,3000):\n",
    "        temp = test[i,:]-mean_frog\n",
    "        t = np.matmul(temp,s_1)\n",
    "        tt = np.matmul(t,np.transpose(temp))\n",
    "        class_frog.append(np.exp(-0.5*tt))\n",
    "        \n",
    "    for i in range(0,3000):\n",
    "        temp = test[i,:]-mean_auto\n",
    "        t = np.matmul(temp,s_1)\n",
    "        tt = np.matmul(t,np.transpose(temp))\n",
    "        class_auto.append(np.exp(-0.5*tt))  \n",
    "        \n",
    "    class_auto =np.asarray(class_auto)\n",
    "    class_air = np.asarray(class_air)\n",
    "    class_frog = np.asarray(class_frog)\n",
    "    class_auto =  class_auto[:, np.newaxis]\n",
    "    class_frog =  class_frog[:, np.newaxis]\n",
    "    class_air =  class_air[:, np.newaxis]\n",
    "    \n",
    "    \n",
    "\n",
    "    \n",
    "    return class_air,class_frog, class_auto\n",
    "    \n",
    "  "
   ]
  },
  {
   "cell_type": "code",
   "execution_count": 185,
   "metadata": {},
   "outputs": [
    {
     "name": "stdout",
     "output_type": "stream",
     "text": [
      "[763, 90, 147]\n",
      "[76, 783, 141]\n",
      "[200, 144, 656]\n"
     ]
    },
    {
     "data": {
      "image/png": "[encoded data removed]",
      "text/plain": [
       "<Figure size 288x288 with 1 Axes>"
      ]
     },
     "metadata": {
      "needs_background": "light"
     },
     "output_type": "display_data"
    }
   ],
   "source": [
    "class_air,class_frog, class_auto = covariance(x_test21,x_train21,3072)\n",
    "final1= predictmax(class_air,class_frog, class_auto)\n",
    "\n",
    "confusion_matrix1 = np.array(final1)\n",
    "confusion_matrices_gm += [confusion_matrix1]\n",
    "\n",
    "\n",
    "\n",
    "def confusion2(matrixx):\n",
    "    accuracy = np.diag(matrixx).sum() / 3000\n",
    "    plt.rc('figure', figsize=[4, 4])\n",
    "    plt.matshow(matrixx, cmap=\"Blues\")\n",
    "    plt.title('FLD+RGB = {0:0.3f}'.format(accuracy))\n",
    "    for i in range(0, matrixx.shape[0]):\n",
    "        for j in range(0, matrixx.shape[1]):\n",
    "            plt.annotate(matrixx[i, j], (j, i))\n",
    "\n",
    "confusion2(confusion_matrix1)"
   ]
  },
  {
   "cell_type": "code",
   "execution_count": 186,
   "metadata": {},
   "outputs": [
    {
     "name": "stdout",
     "output_type": "stream",
     "text": [
      "(5000, 768)\n",
      "[800, 92, 108]\n",
      "[65, 827, 108]\n",
      "[161, 123, 716]\n"
     ]
    },
    {
     "data": {
      "image/png": "[encoded data removed]",
      "text/plain": [
       "<Figure size 288x288 with 1 Axes>"
      ]
     },
     "metadata": {
      "needs_background": "light"
     },
     "output_type": "display_data"
    }
   ],
   "source": [
    "#16_bit\n",
    "x_train_frog16_2=[]\n",
    "x_train_airplane16_2=[]\n",
    "x_train_automobile16_2=[]\n",
    "x_test_frog16_2=[]\n",
    "x_test_airplane16_2=[]\n",
    "x_test_automobile16_2=[]\n",
    "\n",
    "\n",
    "for i in range(0,5000):\n",
    "    img = plt.imread('Data/train/frog/' + str(i) + '.jpg')\n",
    "    img=cv2.resize(img, (16, 16), interpolation = cv2.INTER_AREA).reshape(-1)\n",
    "    x_train_frog16_2.append(img)\n",
    "\n",
    "\n",
    "for i in range(0, 5000):\n",
    "    img = plt.imread('Data/train/airplane/' + str(i) + '.jpg')\n",
    "    img=cv2.resize(img, (16, 16), interpolation=cv2.INTER_AREA).reshape(-1)\n",
    "    x_train_airplane16_2.append(img)\n",
    "for i in range(0, 5000):\n",
    "    img = plt.imread('Data/train/automobile/' + str(i) + '.jpg')\n",
    "    img = cv2.resize(img, (16, 16), interpolation=cv2.INTER_AREA).reshape(-1)\n",
    "    x_train_automobile16_2.append(img)\n",
    "for i in range(0, 1000):\n",
    "    img = plt.imread('Data/test/frog/' + str(i) + '.jpg')\n",
    "    img = cv2.resize(img, (16, 16), interpolation=cv2.INTER_AREA).reshape(-1)\n",
    "    x_test_frog16_2.append(img)\n",
    "for i in range(0, 1000):\n",
    "    img = plt.imread('Data/Test/airplane/' + str(i) + '.jpg')\n",
    "    img = cv2.resize(img, (16, 16), interpolation=cv2.INTER_AREA).reshape(-1)\n",
    "    x_test_airplane16_2.append(img)\n",
    "for i in range(0, 1000):\n",
    "    img = plt.imread('Data/test/automobile/' + str(i) + '.jpg')\n",
    "    img = cv2.resize(img, (16, 16), interpolation=cv2.INTER_AREA).reshape(-1)\n",
    "    x_test_automobile16_2.append(img)\n",
    "\n",
    "\n",
    "x_train_frog16_2 = normalize(x_train_frog16_2)\n",
    "x_train_automobile16_2 = normalize(x_train_automobile16_2)\n",
    "x_train_airplane16_2 = normalize(x_train_airplane16_2)\n",
    "x_test_frog16_2 = normalize(x_test_frog16_2)\n",
    "x_test_automobile16_2 = normalize(x_test_automobile16_2)\n",
    "x_test_airplane16_2 = normalize(x_test_airplane16_2)\n",
    "x_train16_2 = reshape(x_train_airplane16_2, x_train_frog16_2, x_train_automobile16_2)\n",
    "x_test16_2 = reshape(x_test_airplane16_2, x_test_frog16_2, x_test_automobile16_2)\n",
    "print(np.shape(x_train_frog16_2))\n",
    "class_air16,class_frog16, class_auto16 = covariance(x_test16_2,x_train16_2,768)\n",
    "final16_2= predictmax(class_air16,class_frog16, class_auto16)\n",
    "confusion_matrix16_2 = np.array(final16_2)\n",
    "confusion_matrices_gm += [confusion_matrix16_2]\n",
    "confusion2(confusion_matrix16_2)"
   ]
  },
  {
   "cell_type": "code",
   "execution_count": 187,
   "metadata": {},
   "outputs": [
    {
     "name": "stdout",
     "output_type": "stream",
     "text": [
      "[790, 84, 126]\n",
      "[58, 842, 100]\n",
      "[176, 119, 705]\n"
     ]
    },
    {
     "data": {
      "image/png": "[encoded data removed]",
      "text/plain": [
       "<Figure size 288x288 with 1 Axes>"
      ]
     },
     "metadata": {
      "needs_background": "light"
     },
     "output_type": "display_data"
    }
   ],
   "source": [
    "#8_bit\n",
    "x_train_frog8_2=[]\n",
    "x_train_airplane8_2=[]\n",
    "x_train_automobile8_2=[]\n",
    "x_test_frog8_2=[]\n",
    "x_test_airplane8_2=[]\n",
    "x_test_automobile8_2=[]\n",
    "\n",
    "\n",
    "for i in range(0,5000):\n",
    "    img = plt.imread('Data/train/frog/' + str(i) + '.jpg')\n",
    "    img=cv2.resize(img, (8, 8), interpolation = cv2.INTER_AREA).reshape(-1)\n",
    "    x_train_frog8_2.append(img)\n",
    "\n",
    "\n",
    "for i in range(0, 5000):\n",
    "    img = plt.imread('Data/train/airplane/' + str(i) + '.jpg')\n",
    "    img=cv2.resize(img, (8, 8), interpolation=cv2.INTER_AREA).reshape(-1)\n",
    "    x_train_airplane8_2.append(img)\n",
    "for i in range(0, 5000):\n",
    "    img = plt.imread('Data/train/automobile/' + str(i) + '.jpg')\n",
    "    img = cv2.resize(img, (8, 8), interpolation=cv2.INTER_AREA).reshape(-1)\n",
    "    x_train_automobile8_2.append(img)\n",
    "for i in range(0, 1000):\n",
    "    img = plt.imread('Data/test/frog/' + str(i) + '.jpg')\n",
    "    img = cv2.resize(img, (8, 8), interpolation=cv2.INTER_AREA).reshape(-1)\n",
    "    x_test_frog8_2.append(img)\n",
    "for i in range(0, 1000):\n",
    "    img = plt.imread('Data/Test/airplane/' + str(i) + '.jpg')\n",
    "    img = cv2.resize(img, (8, 8), interpolation=cv2.INTER_AREA).reshape(-1)\n",
    "    x_test_airplane8_2.append(img)\n",
    "for i in range(0, 1000):\n",
    "    img = plt.imread('Data/test/automobile/' + str(i) + '.jpg')\n",
    "    img = cv2.resize(img, (8, 8), interpolation=cv2.INTER_AREA).reshape(-1)\n",
    "    x_test_automobile8_2.append(img)\n",
    "\n",
    "\n",
    "x_train_frog8_2 = normalize(x_train_frog8_2)\n",
    "x_train_automobile8_2 = normalize(x_train_automobile8_2)\n",
    "x_train_airplane8_2 = normalize(x_train_airplane8_2)\n",
    "x_test_frog8_2 = normalize(x_test_frog8_2)\n",
    "x_test_automobile8_2 = normalize(x_test_automobile8_2)\n",
    "x_test_airplane8_2 = normalize(x_test_airplane8_2)\n",
    "x_train8_2 = reshape(x_train_airplane8_2, x_train_frog8_2, x_train_automobile8_2)\n",
    "x_test8_2 = reshape(x_test_airplane8_2, x_test_frog8_2, x_test_automobile8_2)\n",
    "\n",
    "class_air8,class_frog8, class_auto8 = covariance(x_test8_2,x_train8_2,192)\n",
    "final8_2= predictmax(class_air8,class_frog8, class_auto8)\n",
    "confusion_matrix8_2 = np.array(final8_2)\n",
    "confusion_matrices_gm += [confusion_matrix8_2]\n",
    "confusion2(confusion_matrix8_2)"
   ]
  },
  {
   "cell_type": "code",
   "execution_count": 188,
   "metadata": {},
   "outputs": [
    {
     "name": "stdout",
     "output_type": "stream",
     "text": [
      "[777, 70, 153]\n",
      "[53, 826, 121]\n",
      "[199, 119, 682]\n"
     ]
    },
    {
     "data": {
      "image/png": "[encoded data removed]",
      "text/plain": [
       "<Figure size 288x288 with 1 Axes>"
      ]
     },
     "metadata": {
      "needs_background": "light"
     },
     "output_type": "display_data"
    }
   ],
   "source": [
    "#4_bit\n",
    "x_train_frog4_2=[]\n",
    "x_train_airplane4_2=[]\n",
    "x_train_automobile4_2=[]\n",
    "x_test_frog4_2=[]\n",
    "x_test_airplane4_2=[]\n",
    "x_test_automobile4_2=[]\n",
    "\n",
    "\n",
    "for i in range(0,5000):\n",
    "    img = plt.imread('Data/train/frog/' + str(i) + '.jpg')\n",
    "    img=cv2.resize(img, (4, 4), interpolation = cv2.INTER_AREA).reshape(-1)\n",
    "    x_train_frog4_2.append(img)\n",
    "\n",
    "\n",
    "for i in range(0, 5000):\n",
    "    img = plt.imread('Data/train/airplane/' + str(i) + '.jpg')\n",
    "    img=cv2.resize(img, (4, 4), interpolation=cv2.INTER_AREA).reshape(-1)\n",
    "    x_train_airplane4_2.append(img)\n",
    "for i in range(0, 5000):\n",
    "    img = plt.imread('Data/train/automobile/' + str(i) + '.jpg')\n",
    "    img = cv2.resize(img, (4, 4), interpolation=cv2.INTER_AREA).reshape(-1)\n",
    "    x_train_automobile4_2.append(img)\n",
    "for i in range(0, 1000):\n",
    "    img = plt.imread('Data/test/frog/' + str(i) + '.jpg')\n",
    "    img = cv2.resize(img, (4, 4), interpolation=cv2.INTER_AREA).reshape(-1)\n",
    "    x_test_frog4_2.append(img)\n",
    "for i in range(0, 1000):\n",
    "    img = plt.imread('Data/Test/airplane/' + str(i) + '.jpg')\n",
    "    img = cv2.resize(img, (4, 4), interpolation=cv2.INTER_AREA).reshape(-1)\n",
    "    x_test_airplane4_2.append(img)\n",
    "for i in range(0, 1000):\n",
    "    img = plt.imread('Data/test/automobile/' + str(i) + '.jpg')\n",
    "    img = cv2.resize(img, (4, 4), interpolation=cv2.INTER_AREA).reshape(-1)\n",
    "    x_test_automobile4_2.append(img)\n",
    "\n",
    "\n",
    "x_train_frog4_2 = normalize(x_train_frog4_2)\n",
    "x_train_automobile4_2 = normalize(x_train_automobile4_2)\n",
    "x_train_airplane4_2 = normalize(x_train_airplane4_2)\n",
    "x_test_frog4_2 = normalize(x_test_frog4_2)\n",
    "x_test_automobile4_2 = normalize(x_test_automobile4_2)\n",
    "x_test_airplane4_2 = normalize(x_test_airplane4_2)\n",
    "x_train4_2 = reshape(x_train_airplane4_2, x_train_frog4_2, x_train_automobile4_2)\n",
    "x_test4_2 = reshape(x_test_airplane4_2, x_test_frog4_2, x_test_automobile4_2)\n",
    "\n",
    "class_air4,class_frog4, class_auto4 = covariance(x_test4_2,x_train4_2,48)\n",
    "final4_2= predictmax(class_air4,class_frog4, class_auto4)\n",
    "confusion_matrix4_2 = np.array(final4_2)\n",
    "confusion_matrices_gm += [confusion_matrix4_2]\n",
    "confusion2(confusion_matrix4_2)"
   ]
  },
  {
   "cell_type": "markdown",
   "metadata": {},
   "source": [
    "<hr style=\"border:2px solid black\"> </hr>\n",
    "\n",
    "## Repeat previous two confusion matrices for image sizes 16,8,4.\n",
    "### Return confusion_matrices (array containing 8 matrices, 4 for naive bayes, 4 for gaussian generative model). \n",
    "#### confusion_matrices_nb = [confusion_matrix_nb_32, confusion_matrix_nb_16, confusion_matrix_nb_8, confusion_matrix_nb_4].\n",
    "#### confusion_matrices_gm = [confusion_matrix_gm_32, confusion_matrix_gm_16, confusion_matrix_gm_8, confusion_matrix_gm_4]."
   ]
  },
  {
   "cell_type": "code",
   "execution_count": 189,
   "metadata": {},
   "outputs": [],
   "source": [
    "confusion_matrices = confusion_matrices_nb + confusion_matrices_gm"
   ]
  },
  {
   "cell_type": "markdown",
   "metadata": {},
   "source": [
    "<hr style=\"border:2px solid black\"> </hr>\n",
    "\n",
    "## The below 2 cells will only work if you return confusion_matrices (previous cell) with all 8 matrices in it.\n",
    "## Please don't edit the below cells.\n",
    "## Please run them and save the notebook before uploading so the script can check the saved image.\n",
    "## Please don't change the order of the matrices.\n"
   ]
  },
  {
   "cell_type": "code",
   "execution_count": 190,
   "metadata": {},
   "outputs": [
    {
     "data": {
      "image/png": "[encoded data removed]",
      "text/plain": [
       "<Figure size 1440x720 with 8 Axes>"
      ]
     },
     "metadata": {},
     "output_type": "display_data"
    }
   ],
   "source": [
    "dims = [32,16,8,4,32,16,8,4]\n",
    "fig, axs = plt.subplots(2, 4,figsize=(20,10))\n",
    "fig.suptitle(\"Confusion Matrix for each Scale\",fontsize=30)\n",
    "for pi in range(0,axs.shape[0]):\n",
    "    for pj in range(0,axs.shape[1]):\n",
    "        index = np.round(pi*4+pj)\n",
    "        cm = confusion_matrices[index]\n",
    "        axs[pi,pj].matshow(cm,cmap=\"Blues\")\n",
    "        axs[pi,pj].set_title(\"For d=\"+str(dims[index])+\" ,acc=\"+str(np.round(np.diag(cm).sum()/3000,3)),fontsize=20)\n",
    "        for i in range(0,cm.shape[0]):\n",
    "            for j in range(0,cm.shape[1]):\n",
    "                axs[pi,pj].set_xticks([])\n",
    "                axs[pi,pj].set_yticks([])\n",
    "                axs[pi,pj].annotate(cm[i,j],(j,i))"
   ]
  },
  {
   "cell_type": "code",
   "execution_count": 192,
   "metadata": {},
   "outputs": [
    {
     "name": "stdout",
     "output_type": "stream",
     "text": [
      "[32, 16, 8, 4]\n",
      "[0.6213333333333333, 0.6446666666666667, 0.639, 0.6133333333333333]\n"
     ]
    },
    {
     "data": {
      "text/plain": [
       "Text(0.5, 1.0, 'NB VS GM')"
      ]
     },
     "execution_count": 192,
     "metadata": {},
     "output_type": "execute_result"
    },
    {
     "data": {
      "image/png": "[encoded data removed]",
      "text/plain": [
       "<Figure size 1440x720 with 1 Axes>"
      ]
     },
     "metadata": {
      "needs_background": "light"
     },
     "output_type": "display_data"
    }
   ],
   "source": [
    "plt.figure(figsize=(20,10))\n",
    "print(dims[:4])\n",
    "print([np.diag(cm).sum()/3000 for cm in confusion_matrices_nb])\n",
    "plt.plot(dims[:4],[np.diag(cm).sum()/3000 for cm in confusion_matrices_nb],color='orange')\n",
    "plt.plot(dims[:4],[np.diag(cm).sum()/3000 for cm in confusion_matrices_gm],color='blue')\n",
    "plt.xlabel('Scale')\n",
    "plt.ylabel('Accuracy')\n",
    "plt.title('NB VS GM')"
   ]
  },
  {
   "cell_type": "markdown",
   "metadata": {},
   "source": [
    "<hr style=\"border:2px solid black\"> </hr>\n",
    "\n",
    "## Comment on the results ##\n",
    "\n",
    "### \n",
    "Edit Here\n",
    "###"
   ]
  }
 ],
 "metadata": {
  "interpreter": {
   "hash": "31f2aee4e71d21fbe5cf8b01ff0e069b9275f58929596ceb00d14d90e3e16cd6"
  },
  "kernelspec": {
   "display_name": "Python 3 (ipykernel)",
   "language": "python",
   "name": "python3"
  },
  "language_info": {
   "codemirror_mode": {
    "name": "ipython",
    "version": 3
   },
   "file_extension": ".py",
   "mimetype": "text/x-python",
   "name": "python",
   "nbconvert_exporter": "python",
   "pygments_lexer": "ipython3",
   "version": "3.9.7"
  }
 },
 "nbformat": 4,
 "nbformat_minor": 4
}